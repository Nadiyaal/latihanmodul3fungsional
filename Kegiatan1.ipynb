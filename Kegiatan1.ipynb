{
 "cells": [
  {
   "cell_type": "code",
   "execution_count": null,
   "id": "7ea0044b",
   "metadata": {},
   "outputs": [],
   "source": [
    "#kegiatan 1\n",
    "def konversi_menit(minggu, hari, jam, menit):\n",
    "    total_menit = (minggu * 7 * 24 * 60) + (hari * 24 * 60) + (jam * 60) + menit\n",
    "    return total_menit\n",
    "\n",
    "def konversi_waktu(data):\n",
    "    # Membagi string data menjadi komponen minggu, hari, jam, dan menit\n",
    "    komponen = data.split()\n",
    "    minggu = int(komponen[0])\n",
    "    hari = int(komponen[2])\n",
    "    jam = int(komponen[4])\n",
    "    menit = int(komponen[6])\n",
    "    \n",
    "    # Menggunakan fungsi konversi_menit untuk mengkonversi ke menit\n",
    "    total_menit = konversi_menit(minggu, hari, jam, menit)\n",
    "    return total_menit\n",
    "\n",
    "data = [\"3 minggu 3 hari 7 jam 21 menit\",\n",
    "        \"5 minggu 5 hari 8 jam 11 menit\",\n",
    "        \"7 minggu 1 hari 5 jam 33 menit\"]\n",
    "\n",
    "OutputData = [konversi_waktu(item) for item in data]\n",
    "\n",
    "print()\n",
    "print(\"[=== HASIL KONVERSI MENIT ===]\")\n",
    "print()\n",
    "# Menampilkan data masukan dan hasil konversi ke menit\n",
    "for i in range(len(data)):\n",
    "    print(\"Data inputan:\", data[i])\n",
    "    print(\"Hasil konversi:\", OutputData[i])\n",
    "    print()\n",
    "\n",
    "OutputData = [konversi_waktu(item) for item in data]\n",
    "print(OutputData)\n"
   ]
  }
 ],
 "metadata": {
  "kernelspec": {
   "display_name": "Python 3 (ipykernel)",
   "language": "python",
   "name": "python3"
  },
  "language_info": {
   "codemirror_mode": {
    "name": "ipython",
    "version": 3
   },
   "file_extension": ".py",
   "mimetype": "text/x-python",
   "name": "python",
   "nbconvert_exporter": "python",
   "pygments_lexer": "ipython3",
   "version": "3.10.9"
  }
 },
 "nbformat": 4,
 "nbformat_minor": 5
}
