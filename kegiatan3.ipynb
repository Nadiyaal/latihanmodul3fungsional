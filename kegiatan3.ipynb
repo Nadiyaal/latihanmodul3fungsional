{
 "cells": [
  {
   "cell_type": "code",
   "execution_count": null,
   "id": "3b4ebf4e",
   "metadata": {},
   "outputs": [],
   "source": [
    "#kegiatan 3\n",
    "# Data list seperti pada kegiatan 1 modul 1\n",
    "random_list = [3.1, 2.7, 5.5, 19, 753, 412, 'Hello', 'Python', 'world', 'AI']\n",
    "\n",
    "# Filter untuk memisahkan nilai float, int, dan string\n",
    "data_float = list(filter(lambda x: isinstance(x, float), random_list))\n",
    "data_int = list(filter(lambda x: isinstance(x, int), random_list))\n",
    "data_string = list(filter(lambda x: isinstance(x, str), random_list))\n",
    "\n",
    "# Map untuk memetakan nilai int menjadi satuan, puluhan, dan ratusan\n",
    "def map_to_digits(num):\n",
    "    return {\n",
    "        'ratusan': num // 100,\n",
    "        'puluhan': (num % 100) // 10,\n",
    "        'satuan': num % 10\n",
    "    }\n",
    "\n",
    "data_int_mapped = list(map(map_to_digits, data_int))\n",
    "\n",
    "# Output\n",
    "print(\"Data Float:\", data_float)\n",
    "print(\"Data Int:\")\n",
    "for item in data_int_mapped:\n",
    "    print(item)\n",
    "print(\"Data String:\", data_string)"
   ]
  }
 ],
 "metadata": {
  "kernelspec": {
   "display_name": "Python 3 (ipykernel)",
   "language": "python",
   "name": "python3"
  },
  "language_info": {
   "codemirror_mode": {
    "name": "ipython",
    "version": 3
   },
   "file_extension": ".py",
   "mimetype": "text/x-python",
   "name": "python",
   "nbconvert_exporter": "python",
   "pygments_lexer": "ipython3",
   "version": "3.10.9"
  }
 },
 "nbformat": 4,
 "nbformat_minor": 5
}
